{
 "cells": [
  {
   "cell_type": "code",
   "execution_count": 18,
   "metadata": {
    "ExecuteTime": {
     "end_time": "2020-09-25T11:53:49.689291Z",
     "start_time": "2020-09-25T11:53:49.633249Z"
    }
   },
   "outputs": [
    {
     "data": {
      "text/plain": [
       "<Figure size 1440x720 with 0 Axes>"
      ]
     },
     "execution_count": 18,
     "metadata": {},
     "output_type": "execute_result"
    },
    {
     "data": {
      "text/plain": [
       "<Figure size 1440x720 with 0 Axes>"
      ]
     },
     "metadata": {},
     "output_type": "display_data"
    }
   ],
   "source": [
    "import pandas as pd\n",
    "import numpy as np\n",
    "import matplotlib.pyplot as plt\n",
    "import seaborn as sns\n",
    "import matplotlib.font_manager as fm\n",
    "# 한글 폰트 설정\n",
    "\n",
    "fm.get_fontconfig_fonts()\n",
    "font_location = 'C:/Windows/Fonts/NanumGothic.ttf' # For Windows\n",
    "font_name = fm.FontProperties(fname=font_location).get_name()\n",
    "plt.rc('font', family=font_name)\n",
    "plt.rc('font', size=12)\n",
    "plt.figure(figsize=(20,10))"
   ]
  },
  {
   "cell_type": "code",
   "execution_count": null,
   "metadata": {},
   "outputs": [],
   "source": []
  },
  {
   "cell_type": "markdown",
   "metadata": {
    "heading_collapsed": true
   },
   "source": [
    "# 2019_items"
   ]
  },
  {
   "cell_type": "code",
   "execution_count": 2,
   "metadata": {
    "ExecuteTime": {
     "end_time": "2020-09-25T11:39:04.821999Z",
     "start_time": "2020-09-25T11:38:57.019402Z"
    },
    "hidden": true
   },
   "outputs": [],
   "source": [
    "test = pd.read_excel('./data/train_raw.xlsx', encoding='cp949', header=1)\n",
    "test.drop(test[test['상품군']=='무형'].index, inplace=True)\n",
    "test.reset_index(inplace=True)"
   ]
  },
  {
   "cell_type": "code",
   "execution_count": 3,
   "metadata": {
    "ExecuteTime": {
     "end_time": "2020-09-25T11:39:08.787794Z",
     "start_time": "2020-09-25T11:39:08.052234Z"
    },
    "hidden": true
   },
   "outputs": [],
   "source": [
    "item_list = []\n",
    "\n",
    "idx = 1\n",
    "while idx < len(test) :\n",
    "    \n",
    "    # 기본값 설정\n",
    "    items = 1\n",
    "    repeat = 1\n",
    "    \n",
    "    while True : \n",
    "        if idx == 37372 :\n",
    "            break\n",
    "        \n",
    "        exp_time_check = test.iloc[idx,2]\n",
    "        \n",
    "        if exp_time_check != exp_time_check : # 노출시간에 nan이 있으면\n",
    "            items += 1\n",
    "            repeat += 1\n",
    "            idx += 1\n",
    "        \n",
    "        else :\n",
    "            for rp in range(repeat) :\n",
    "                item_list.append(items)\n",
    "            break\n",
    "    \n",
    "    idx += 1\n",
    "\n",
    "    \n",
    "# train\n",
    "for i in range(4) :\n",
    "    item_list.append(item_list[-1])"
   ]
  },
  {
   "cell_type": "code",
   "execution_count": 4,
   "metadata": {
    "ExecuteTime": {
     "end_time": "2020-09-25T11:39:19.927706Z",
     "start_time": "2020-09-25T11:39:19.864624Z"
    },
    "hidden": true
   },
   "outputs": [],
   "source": [
    "tmp = pd.DataFrame({'items' : item_list})\n",
    "tmp_test = pd.concat([test, tmp], axis=1)\n",
    "na_idx = tmp_test[tmp_test['취급액'].isnull()].index\n",
    "tmp_test.drop(na_idx, inplace=True)\n",
    "# tmp_test.to_csv('./data/train_items.csv', encoding='cp949', index=False )"
   ]
  },
  {
   "cell_type": "code",
   "execution_count": 7,
   "metadata": {
    "ExecuteTime": {
     "end_time": "2020-09-25T11:39:55.910222Z",
     "start_time": "2020-09-25T11:39:55.888202Z"
    },
    "hidden": true,
    "scrolled": true
   },
   "outputs": [
    {
     "data": {
      "text/html": [
       "<div>\n",
       "<style scoped>\n",
       "    .dataframe tbody tr th:only-of-type {\n",
       "        vertical-align: middle;\n",
       "    }\n",
       "\n",
       "    .dataframe tbody tr th {\n",
       "        vertical-align: top;\n",
       "    }\n",
       "\n",
       "    .dataframe thead th {\n",
       "        text-align: right;\n",
       "    }\n",
       "</style>\n",
       "<table border=\"1\" class=\"dataframe\">\n",
       "  <thead>\n",
       "    <tr style=\"text-align: right;\">\n",
       "      <th></th>\n",
       "      <th>취급액</th>\n",
       "      <th>items</th>\n",
       "    </tr>\n",
       "  </thead>\n",
       "  <tbody>\n",
       "    <tr>\n",
       "      <th>취급액</th>\n",
       "      <td>1.000000</td>\n",
       "      <td>-0.448588</td>\n",
       "    </tr>\n",
       "    <tr>\n",
       "      <th>items</th>\n",
       "      <td>-0.448588</td>\n",
       "      <td>1.000000</td>\n",
       "    </tr>\n",
       "  </tbody>\n",
       "</table>\n",
       "</div>"
      ],
      "text/plain": [
       "            취급액     items\n",
       "취급액    1.000000 -0.448588\n",
       "items -0.448588  1.000000"
      ]
     },
     "execution_count": 7,
     "metadata": {},
     "output_type": "execute_result"
    }
   ],
   "source": [
    "tmp_test.loc[:,['취급액','items']].corr()"
   ]
  },
  {
   "cell_type": "code",
   "execution_count": 8,
   "metadata": {
    "ExecuteTime": {
     "end_time": "2020-09-25T11:48:18.161870Z",
     "start_time": "2020-09-25T11:48:18.138861Z"
    },
    "hidden": true,
    "scrolled": true
   },
   "outputs": [
    {
     "data": {
      "text/html": [
       "<div>\n",
       "<style scoped>\n",
       "    .dataframe tbody tr th:only-of-type {\n",
       "        vertical-align: middle;\n",
       "    }\n",
       "\n",
       "    .dataframe tbody tr th {\n",
       "        vertical-align: top;\n",
       "    }\n",
       "\n",
       "    .dataframe thead th {\n",
       "        text-align: right;\n",
       "    }\n",
       "</style>\n",
       "<table border=\"1\" class=\"dataframe\">\n",
       "  <thead>\n",
       "    <tr style=\"text-align: right;\">\n",
       "      <th></th>\n",
       "      <th>판매단가</th>\n",
       "      <th>items</th>\n",
       "    </tr>\n",
       "  </thead>\n",
       "  <tbody>\n",
       "    <tr>\n",
       "      <th>판매단가</th>\n",
       "      <td>1.000000</td>\n",
       "      <td>0.643136</td>\n",
       "    </tr>\n",
       "    <tr>\n",
       "      <th>items</th>\n",
       "      <td>0.643136</td>\n",
       "      <td>1.000000</td>\n",
       "    </tr>\n",
       "  </tbody>\n",
       "</table>\n",
       "</div>"
      ],
      "text/plain": [
       "           판매단가     items\n",
       "판매단가   1.000000  0.643136\n",
       "items  0.643136  1.000000"
      ]
     },
     "execution_count": 8,
     "metadata": {},
     "output_type": "execute_result"
    }
   ],
   "source": [
    "tmp_test.loc[:,['판매단가','items']].corr()"
   ]
  },
  {
   "cell_type": "code",
   "execution_count": 11,
   "metadata": {
    "ExecuteTime": {
     "end_time": "2020-09-25T11:51:21.731224Z",
     "start_time": "2020-09-25T11:51:21.719214Z"
    },
    "hidden": true
   },
   "outputs": [],
   "source": [
    "tmp_test = tmp_test.drop(['index'], axis=1)"
   ]
  },
  {
   "cell_type": "code",
   "execution_count": 12,
   "metadata": {
    "ExecuteTime": {
     "end_time": "2020-09-25T11:51:23.784682Z",
     "start_time": "2020-09-25T11:51:23.741651Z"
    },
    "hidden": true
   },
   "outputs": [
    {
     "data": {
      "text/html": [
       "<div>\n",
       "<style scoped>\n",
       "    .dataframe tbody tr th:only-of-type {\n",
       "        vertical-align: middle;\n",
       "    }\n",
       "\n",
       "    .dataframe tbody tr th {\n",
       "        vertical-align: top;\n",
       "    }\n",
       "\n",
       "    .dataframe thead th {\n",
       "        text-align: right;\n",
       "    }\n",
       "</style>\n",
       "<table border=\"1\" class=\"dataframe\">\n",
       "  <thead>\n",
       "    <tr style=\"text-align: right;\">\n",
       "      <th></th>\n",
       "      <th>노출(분)</th>\n",
       "      <th>마더코드</th>\n",
       "      <th>상품코드</th>\n",
       "      <th>판매단가</th>\n",
       "      <th>취급액</th>\n",
       "      <th>items</th>\n",
       "    </tr>\n",
       "  </thead>\n",
       "  <tbody>\n",
       "    <tr>\n",
       "      <th>노출(분)</th>\n",
       "      <td>1.000000</td>\n",
       "      <td>0.077118</td>\n",
       "      <td>0.072102</td>\n",
       "      <td>0.108132</td>\n",
       "      <td>0.148452</td>\n",
       "      <td>0.129612</td>\n",
       "    </tr>\n",
       "    <tr>\n",
       "      <th>마더코드</th>\n",
       "      <td>0.077118</td>\n",
       "      <td>1.000000</td>\n",
       "      <td>0.977926</td>\n",
       "      <td>-0.205652</td>\n",
       "      <td>-0.054361</td>\n",
       "      <td>-0.053538</td>\n",
       "    </tr>\n",
       "    <tr>\n",
       "      <th>상품코드</th>\n",
       "      <td>0.072102</td>\n",
       "      <td>0.977926</td>\n",
       "      <td>1.000000</td>\n",
       "      <td>-0.217107</td>\n",
       "      <td>-0.041807</td>\n",
       "      <td>-0.069653</td>\n",
       "    </tr>\n",
       "    <tr>\n",
       "      <th>판매단가</th>\n",
       "      <td>0.108132</td>\n",
       "      <td>-0.205652</td>\n",
       "      <td>-0.217107</td>\n",
       "      <td>1.000000</td>\n",
       "      <td>-0.161539</td>\n",
       "      <td>0.643136</td>\n",
       "    </tr>\n",
       "    <tr>\n",
       "      <th>취급액</th>\n",
       "      <td>0.148452</td>\n",
       "      <td>-0.054361</td>\n",
       "      <td>-0.041807</td>\n",
       "      <td>-0.161539</td>\n",
       "      <td>1.000000</td>\n",
       "      <td>-0.448588</td>\n",
       "    </tr>\n",
       "    <tr>\n",
       "      <th>items</th>\n",
       "      <td>0.129612</td>\n",
       "      <td>-0.053538</td>\n",
       "      <td>-0.069653</td>\n",
       "      <td>0.643136</td>\n",
       "      <td>-0.448588</td>\n",
       "      <td>1.000000</td>\n",
       "    </tr>\n",
       "  </tbody>\n",
       "</table>\n",
       "</div>"
      ],
      "text/plain": [
       "          노출(분)      마더코드      상품코드      판매단가       취급액     items\n",
       "노출(분)  1.000000  0.077118  0.072102  0.108132  0.148452  0.129612\n",
       "마더코드   0.077118  1.000000  0.977926 -0.205652 -0.054361 -0.053538\n",
       "상품코드   0.072102  0.977926  1.000000 -0.217107 -0.041807 -0.069653\n",
       "판매단가   0.108132 -0.205652 -0.217107  1.000000 -0.161539  0.643136\n",
       "취급액    0.148452 -0.054361 -0.041807 -0.161539  1.000000 -0.448588\n",
       "items  0.129612 -0.053538 -0.069653  0.643136 -0.448588  1.000000"
      ]
     },
     "execution_count": 12,
     "metadata": {},
     "output_type": "execute_result"
    }
   ],
   "source": [
    "tmp_test.corr()"
   ]
  },
  {
   "cell_type": "code",
   "execution_count": 32,
   "metadata": {
    "ExecuteTime": {
     "end_time": "2020-09-25T12:00:42.886720Z",
     "start_time": "2020-09-25T12:00:42.238242Z"
    },
    "hidden": true
   },
   "outputs": [
    {
     "data": {
      "image/png": "[encoded data removed]",
      "text/plain": [
       "<Figure size 432x288 with 2 Axes>"
      ]
     },
     "metadata": {
      "needs_background": "light"
     },
     "output_type": "display_data"
    }
   ],
   "source": [
    "# heatmap by seaborn\n",
    "\n",
    "ax = sns.heatmap(tmp_test.corr(), annot=True, fmt= '.2f', cmap='YlGnBu')\n",
    "\n",
    "plt.title('상관관계 확인', fontsize=10)\n",
    "plt.show() "
   ]
  },
  {
   "cell_type": "markdown",
   "metadata": {
    "heading_collapsed": true
   },
   "source": [
    "# 2020_items"
   ]
  },
  {
   "cell_type": "code",
   "execution_count": null,
   "metadata": {
    "hidden": true
   },
   "outputs": [],
   "source": [
    "test = pd.read_excel('./data/test_raw.xlsx', encoding='cp949', header=1)\n",
    "test.drop(test[test['상품군']=='무형'].index, inplace=True)\n",
    "test.reset_index(inplace=True)"
   ]
  },
  {
   "cell_type": "code",
   "execution_count": null,
   "metadata": {
    "hidden": true
   },
   "outputs": [],
   "source": [
    "item_list = []\n",
    "\n",
    "idx = 1\n",
    "while idx < len(test) :\n",
    "    \n",
    "    # 기본값 설정\n",
    "    items = 1\n",
    "    repeat = 1\n",
    "    \n",
    "    while True : \n",
    "        if idx == 37372 :\n",
    "            break\n",
    "        \n",
    "        exp_time_check = test.iloc[idx,2]\n",
    "        \n",
    "        if exp_time_check != exp_time_check : # 노출시간에 nan이 있으면\n",
    "            items += 1\n",
    "            repeat += 1\n",
    "            idx += 1\n",
    "        \n",
    "        else :\n",
    "            for rp in range(repeat) :\n",
    "                item_list.append(items)\n",
    "            break\n",
    "    \n",
    "    idx += 1\n",
    "\n",
    "    \n",
    "\n",
    "# test\n",
    "item_list.append(item_list[-1])"
   ]
  },
  {
   "cell_type": "code",
   "execution_count": null,
   "metadata": {
    "hidden": true
   },
   "outputs": [],
   "source": [
    "tmp = pd.DataFrame({'items' : item_list})\n",
    "tmp_test = pd.concat([test, tmp], axis=1)\n",
    "na_idx = tmp_test[tmp_test['취급액'].isnull()].index\n",
    "tmp_test.drop(na_idx, inplace=True)\n",
    "tmp_test.to_csv('./data/train_items.csv', encoding='cp949', index=False )"
   ]
  }
 ],
 "metadata": {
  "kernelspec": {
   "display_name": "Python [conda env:cpu_env] *",
   "language": "python",
   "name": "conda-env-cpu_env-py"
  },
  "language_info": {
   "codemirror_mode": {
    "name": "ipython",
    "version": 3
   },
   "file_extension": ".py",
   "mimetype": "text/x-python",
   "name": "python",
   "nbconvert_exporter": "python",
   "pygments_lexer": "ipython3",
   "version": "3.6.9"
  },
  "toc": {
   "base_numbering": 1,
   "nav_menu": {},
   "number_sections": true,
   "sideBar": true,
   "skip_h1_title": false,
   "title_cell": "Table of Contents",
   "title_sidebar": "Contents",
   "toc_cell": false,
   "toc_position": {},
   "toc_section_display": true,
   "toc_window_display": false
  },
  "varInspector": {
   "cols": {
    "lenName": 16,
    "lenType": 16,
    "lenVar": 40
   },
   "kernels_config": {
    "python": {
     "delete_cmd_postfix": "",
     "delete_cmd_prefix": "del ",
     "library": "var_list.py",
     "varRefreshCmd": "print(var_dic_list())"
    },
    "r": {
     "delete_cmd_postfix": ") ",
     "delete_cmd_prefix": "rm(",
     "library": "var_list.r",
     "varRefreshCmd": "cat(var_dic_list()) "
    }
   },
   "types_to_exclude": [
    "module",
    "function",
    "builtin_function_or_method",
    "instance",
    "_Feature"
   ],
   "window_display": false
  }
 },
 "nbformat": 4,
 "nbformat_minor": 2
}
