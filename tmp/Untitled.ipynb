{
 "cells": [
  {
   "cell_type": "code",
   "execution_count": 16,
   "metadata": {
    "ExecuteTime": {
     "end_time": "2020-09-07T03:57:59.453397Z",
     "start_time": "2020-09-07T03:57:59.404364Z"
    },
    "collapsed": true
   },
   "outputs": [
    {
     "data": {
      "text/html": [
       "<div>\n",
       "<style scoped>\n",
       "    .dataframe tbody tr th:only-of-type {\n",
       "        vertical-align: middle;\n",
       "    }\n",
       "\n",
       "    .dataframe tbody tr th {\n",
       "        vertical-align: top;\n",
       "    }\n",
       "\n",
       "    .dataframe thead th {\n",
       "        text-align: right;\n",
       "    }\n",
       "</style>\n",
       "<table border=\"1\" class=\"dataframe\">\n",
       "  <thead>\n",
       "    <tr style=\"text-align: right;\">\n",
       "      <th></th>\n",
       "      <th>product_name</th>\n",
       "      <th>C1</th>\n",
       "      <th>C2</th>\n",
       "      <th>C3</th>\n",
       "    </tr>\n",
       "  </thead>\n",
       "  <tbody>\n",
       "    <tr>\n",
       "      <th>0</th>\n",
       "      <td>테이트 남성 셀린니트3종</td>\n",
       "      <td>NaN</td>\n",
       "      <td>NaN</td>\n",
       "      <td>NaN</td>\n",
       "    </tr>\n",
       "    <tr>\n",
       "      <th>1</th>\n",
       "      <td>테이트 여성 셀린니트3종</td>\n",
       "      <td>NaN</td>\n",
       "      <td>NaN</td>\n",
       "      <td>NaN</td>\n",
       "    </tr>\n",
       "    <tr>\n",
       "      <th>2</th>\n",
       "      <td>오모떼 레이스 파운데이션 브라</td>\n",
       "      <td>NaN</td>\n",
       "      <td>NaN</td>\n",
       "      <td>NaN</td>\n",
       "    </tr>\n",
       "    <tr>\n",
       "      <th>3</th>\n",
       "      <td>CERINI by PAT 남성 소프트 기모 릴렉스팬츠</td>\n",
       "      <td>NaN</td>\n",
       "      <td>NaN</td>\n",
       "      <td>NaN</td>\n",
       "    </tr>\n",
       "    <tr>\n",
       "      <th>4</th>\n",
       "      <td>보코 리버시블 무스탕</td>\n",
       "      <td>NaN</td>\n",
       "      <td>NaN</td>\n",
       "      <td>NaN</td>\n",
       "    </tr>\n",
       "    <tr>\n",
       "      <th>...</th>\n",
       "      <td>...</td>\n",
       "      <td>...</td>\n",
       "      <td>...</td>\n",
       "      <td>...</td>\n",
       "    </tr>\n",
       "    <tr>\n",
       "      <th>1474</th>\n",
       "      <td>조방할매 낙곱새 6팩세트</td>\n",
       "      <td>NaN</td>\n",
       "      <td>NaN</td>\n",
       "      <td>NaN</td>\n",
       "    </tr>\n",
       "    <tr>\n",
       "      <th>1475</th>\n",
       "      <td>파격가 니봇 무선 진공 물걸레 로봇청소기 +뉴헤어드라이어기</td>\n",
       "      <td>NaN</td>\n",
       "      <td>NaN</td>\n",
       "      <td>NaN</td>\n",
       "    </tr>\n",
       "    <tr>\n",
       "      <th>1476</th>\n",
       "      <td>램프쿡 자동회전냄비</td>\n",
       "      <td>NaN</td>\n",
       "      <td>NaN</td>\n",
       "      <td>NaN</td>\n",
       "    </tr>\n",
       "    <tr>\n",
       "      <th>1477</th>\n",
       "      <td>벨라홈 스마트 멀티포트 1+1 세트</td>\n",
       "      <td>NaN</td>\n",
       "      <td>NaN</td>\n",
       "      <td>NaN</td>\n",
       "    </tr>\n",
       "    <tr>\n",
       "      <th>1478</th>\n",
       "      <td>코몽트 기모 터틀넥 5종</td>\n",
       "      <td>NaN</td>\n",
       "      <td>NaN</td>\n",
       "      <td>NaN</td>\n",
       "    </tr>\n",
       "  </tbody>\n",
       "</table>\n",
       "<p>1479 rows × 4 columns</p>\n",
       "</div>"
      ],
      "text/plain": [
       "                          product_name   C1   C2   C3\n",
       "0                        테이트 남성 셀린니트3종  NaN  NaN  NaN\n",
       "1                        테이트 여성 셀린니트3종  NaN  NaN  NaN\n",
       "2                     오모떼 레이스 파운데이션 브라  NaN  NaN  NaN\n",
       "3        CERINI by PAT 남성 소프트 기모 릴렉스팬츠  NaN  NaN  NaN\n",
       "4                          보코 리버시블 무스탕  NaN  NaN  NaN\n",
       "...                                ...  ...  ...  ...\n",
       "1474                     조방할매 낙곱새 6팩세트  NaN  NaN  NaN\n",
       "1475  파격가 니봇 무선 진공 물걸레 로봇청소기 +뉴헤어드라이어기  NaN  NaN  NaN\n",
       "1476                        램프쿡 자동회전냄비  NaN  NaN  NaN\n",
       "1477               벨라홈 스마트 멀티포트 1+1 세트  NaN  NaN  NaN\n",
       "1478                     코몽트 기모 터틀넥 5종  NaN  NaN  NaN\n",
       "\n",
       "[1479 rows x 4 columns]"
      ]
     },
     "execution_count": 16,
     "metadata": {},
     "output_type": "execute_result"
    }
   ],
   "source": [
    "import pandas as pd\n",
    "\n",
    "tmp1 = pd.read_csv('C:/Users/박소희/Desktop/WANPANMAN/data/result/mapping_result.csv', encoding='cp949')"
   ]
  },
  {
   "cell_type": "code",
   "execution_count": 107,
   "metadata": {
    "ExecuteTime": {
     "end_time": "2020-09-07T04:32:37.889067Z",
     "start_time": "2020-09-07T04:32:37.831027Z"
    }
   },
   "outputs": [],
   "source": [
    "tmp2 = pd.read_csv('C:/Users/박소희/Desktop/WANPANMAN/data/result/morphs7/morphs7_1.csv', encoding='cp949')\n",
    "tmp3 = pd.read_csv('C:/Users/박소희/Desktop/WANPANMAN/data/result/morphs7/morphs7_2.csv', encoding='cp949')\n",
    "tmp4 = pd.read_csv('C:/Users/박소희/Desktop/WANPANMAN/data/result/morphs7/morphs7_3.csv', encoding='cp949')"
   ]
  },
  {
   "cell_type": "code",
   "execution_count": 108,
   "metadata": {
    "ExecuteTime": {
     "end_time": "2020-09-07T04:32:46.295052Z",
     "start_time": "2020-09-07T04:32:46.279040Z"
    }
   },
   "outputs": [],
   "source": [
    "tmp2_list = list(tmp2.loc[tmp2['C1'].notnull(),:].index)\n",
    "tmp3_list = list(tmp3.loc[tmp3['C1'].notnull(),:].index)\n",
    "tmp4_list = list(tmp4.loc[tmp4['C1'].notnull(),:].index)"
   ]
  },
  {
   "cell_type": "code",
   "execution_count": 109,
   "metadata": {
    "ExecuteTime": {
     "end_time": "2020-09-07T04:33:03.314185Z",
     "start_time": "2020-09-07T04:33:03.275144Z"
    },
    "scrolled": true
   },
   "outputs": [],
   "source": [
    "# tmp = pd.merge(tmp, tmp2, how='left') \n",
    "# tmp.iloc[tmp2_list, 1:4] = tmp2.iloc[tmp2_list, 1:4]\n",
    "\n",
    "tmp = pd.merge(tmp2, tmp3, how='left')\n",
    "tmp.iloc[tmp3_list, 1:4] = tmp3.iloc[tmp3_list, 1:4]\n",
    "\n",
    "tmp = pd.merge(tmp, tmp4, how='left') \n",
    "tmp.iloc[tmp4_list, 1:4] = tmp4.iloc[tmp4_list, 1:4]"
   ]
  },
  {
   "cell_type": "code",
   "execution_count": 110,
   "metadata": {
    "ExecuteTime": {
     "end_time": "2020-09-07T04:33:05.468702Z",
     "start_time": "2020-09-07T04:33:05.459695Z"
    },
    "scrolled": true
   },
   "outputs": [
    {
     "name": "stdout",
     "output_type": "stream",
     "text": [
      "<class 'pandas.core.frame.DataFrame'>\n",
      "Int64Index: 1479 entries, 0 to 1478\n",
      "Data columns (total 4 columns):\n",
      "product_name    1479 non-null object\n",
      "C1              600 non-null object\n",
      "C2              600 non-null object\n",
      "C3              600 non-null object\n",
      "dtypes: object(4)\n",
      "memory usage: 57.8+ KB\n"
     ]
    }
   ],
   "source": [
    "tmp.info()"
   ]
  },
  {
   "cell_type": "code",
   "execution_count": 111,
   "metadata": {
    "ExecuteTime": {
     "end_time": "2020-09-07T04:33:13.977777Z",
     "start_time": "2020-09-07T04:33:13.956744Z"
    }
   },
   "outputs": [],
   "source": [
    "tmp.to_csv('C:/Users/박소희/Desktop/WANPANMAN/data/result/morphs7/mapping_result_ongoing.csv', encoding='cp949', index=False)"
   ]
  },
  {
   "cell_type": "code",
   "execution_count": 104,
   "metadata": {
    "ExecuteTime": {
     "end_time": "2020-09-07T04:30:58.035983Z",
     "start_time": "2020-09-07T04:30:57.989951Z"
    }
   },
   "outputs": [
    {
     "data": {
      "text/html": [
       "<div>\n",
       "<style scoped>\n",
       "    .dataframe tbody tr th:only-of-type {\n",
       "        vertical-align: middle;\n",
       "    }\n",
       "\n",
       "    .dataframe tbody tr th {\n",
       "        vertical-align: top;\n",
       "    }\n",
       "\n",
       "    .dataframe thead th {\n",
       "        text-align: right;\n",
       "    }\n",
       "</style>\n",
       "<table border=\"1\" class=\"dataframe\">\n",
       "  <thead>\n",
       "    <tr style=\"text-align: right;\">\n",
       "      <th></th>\n",
       "      <th>product_name</th>\n",
       "      <th>C1</th>\n",
       "      <th>C2</th>\n",
       "      <th>C3</th>\n",
       "      <th>check</th>\n",
       "    </tr>\n",
       "  </thead>\n",
       "  <tbody>\n",
       "    <tr>\n",
       "      <th>0</th>\n",
       "      <td>테이트 남성 셀린니트3종</td>\n",
       "      <td>패션/뷰티</td>\n",
       "      <td>패션의류</td>\n",
       "      <td>언더웨어</td>\n",
       "      <td>x</td>\n",
       "    </tr>\n",
       "    <tr>\n",
       "      <th>1</th>\n",
       "      <td>테이트 여성 셀린니트3종</td>\n",
       "      <td>패션/뷰티</td>\n",
       "      <td>패션의류</td>\n",
       "      <td>언더웨어</td>\n",
       "      <td>x</td>\n",
       "    </tr>\n",
       "    <tr>\n",
       "      <th>2</th>\n",
       "      <td>오모떼 레이스 파운데이션 브라</td>\n",
       "      <td>패션/뷰티</td>\n",
       "      <td>패션의류</td>\n",
       "      <td>언더웨어</td>\n",
       "      <td>NaN</td>\n",
       "    </tr>\n",
       "    <tr>\n",
       "      <th>3</th>\n",
       "      <td>CERINI by PAT 남성 소프트 기모 릴렉스팬츠</td>\n",
       "      <td>패션/뷰티</td>\n",
       "      <td>패션의류</td>\n",
       "      <td>언더웨어</td>\n",
       "      <td>x</td>\n",
       "    </tr>\n",
       "    <tr>\n",
       "      <th>4</th>\n",
       "      <td>보코 리버시블 무스탕</td>\n",
       "      <td>패션/뷰티</td>\n",
       "      <td>패션의류</td>\n",
       "      <td>캐주얼/유니섹스</td>\n",
       "      <td>NaN</td>\n",
       "    </tr>\n",
       "    <tr>\n",
       "      <th>...</th>\n",
       "      <td>...</td>\n",
       "      <td>...</td>\n",
       "      <td>...</td>\n",
       "      <td>...</td>\n",
       "      <td>...</td>\n",
       "    </tr>\n",
       "    <tr>\n",
       "      <th>1474</th>\n",
       "      <td>조방할매 낙곱새 6팩세트</td>\n",
       "      <td>NaN</td>\n",
       "      <td>NaN</td>\n",
       "      <td>NaN</td>\n",
       "      <td>NaN</td>\n",
       "    </tr>\n",
       "    <tr>\n",
       "      <th>1475</th>\n",
       "      <td>파격가 니봇 무선 진공 물걸레 로봇청소기 +뉴헤어드라이어기</td>\n",
       "      <td>NaN</td>\n",
       "      <td>NaN</td>\n",
       "      <td>NaN</td>\n",
       "      <td>NaN</td>\n",
       "    </tr>\n",
       "    <tr>\n",
       "      <th>1476</th>\n",
       "      <td>램프쿡 자동회전냄비</td>\n",
       "      <td>NaN</td>\n",
       "      <td>NaN</td>\n",
       "      <td>NaN</td>\n",
       "      <td>NaN</td>\n",
       "    </tr>\n",
       "    <tr>\n",
       "      <th>1477</th>\n",
       "      <td>벨라홈 스마트 멀티포트 1+1 세트</td>\n",
       "      <td>NaN</td>\n",
       "      <td>NaN</td>\n",
       "      <td>NaN</td>\n",
       "      <td>NaN</td>\n",
       "    </tr>\n",
       "    <tr>\n",
       "      <th>1478</th>\n",
       "      <td>코몽트 기모 터틀넥 5종</td>\n",
       "      <td>NaN</td>\n",
       "      <td>NaN</td>\n",
       "      <td>NaN</td>\n",
       "      <td>NaN</td>\n",
       "    </tr>\n",
       "  </tbody>\n",
       "</table>\n",
       "<p>1479 rows × 5 columns</p>\n",
       "</div>"
      ],
      "text/plain": [
       "                          product_name     C1    C2        C3 check\n",
       "0                        테이트 남성 셀린니트3종  패션/뷰티  패션의류      언더웨어     x\n",
       "1                        테이트 여성 셀린니트3종  패션/뷰티  패션의류      언더웨어     x\n",
       "2                     오모떼 레이스 파운데이션 브라  패션/뷰티  패션의류      언더웨어   NaN\n",
       "3        CERINI by PAT 남성 소프트 기모 릴렉스팬츠  패션/뷰티  패션의류      언더웨어     x\n",
       "4                          보코 리버시블 무스탕  패션/뷰티  패션의류  캐주얼/유니섹스   NaN\n",
       "...                                ...    ...   ...       ...   ...\n",
       "1474                     조방할매 낙곱새 6팩세트    NaN   NaN       NaN   NaN\n",
       "1475  파격가 니봇 무선 진공 물걸레 로봇청소기 +뉴헤어드라이어기    NaN   NaN       NaN   NaN\n",
       "1476                        램프쿡 자동회전냄비    NaN   NaN       NaN   NaN\n",
       "1477               벨라홈 스마트 멀티포트 1+1 세트    NaN   NaN       NaN   NaN\n",
       "1478                     코몽트 기모 터틀넥 5종    NaN   NaN       NaN   NaN\n",
       "\n",
       "[1479 rows x 5 columns]"
      ]
     },
     "execution_count": 104,
     "metadata": {},
     "output_type": "execute_result"
    }
   ],
   "source": [
    "pd.read_csv('C:/Users/박소희/Desktop/WANPANMAN/data/result/morphs10/mapping_result_ongoing.csv', encoding='cp949')"
   ]
  }
 ],
 "metadata": {
  "kernelspec": {
   "display_name": "Python [conda env:cpu_env] *",
   "language": "python",
   "name": "conda-env-cpu_env-py"
  },
  "language_info": {
   "codemirror_mode": {
    "name": "ipython",
    "version": 3
   },
   "file_extension": ".py",
   "mimetype": "text/x-python",
   "name": "python",
   "nbconvert_exporter": "python",
   "pygments_lexer": "ipython3",
   "version": "3.6.9"
  },
  "toc": {
   "base_numbering": 1,
   "nav_menu": {},
   "number_sections": true,
   "sideBar": true,
   "skip_h1_title": false,
   "title_cell": "Table of Contents",
   "title_sidebar": "Contents",
   "toc_cell": false,
   "toc_position": {},
   "toc_section_display": true,
   "toc_window_display": false
  },
  "varInspector": {
   "cols": {
    "lenName": 16,
    "lenType": 16,
    "lenVar": 40
   },
   "kernels_config": {
    "python": {
     "delete_cmd_postfix": "",
     "delete_cmd_prefix": "del ",
     "library": "var_list.py",
     "varRefreshCmd": "print(var_dic_list())"
    },
    "r": {
     "delete_cmd_postfix": ") ",
     "delete_cmd_prefix": "rm(",
     "library": "var_list.r",
     "varRefreshCmd": "cat(var_dic_list()) "
    }
   },
   "types_to_exclude": [
    "module",
    "function",
    "builtin_function_or_method",
    "instance",
    "_Feature"
   ],
   "window_display": false
  }
 },
 "nbformat": 4,
 "nbformat_minor": 2
}
