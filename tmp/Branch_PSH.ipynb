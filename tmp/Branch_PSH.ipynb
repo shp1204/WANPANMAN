{
 "cells": [
  {
   "cell_type": "code",
   "execution_count": 22,
   "metadata": {
    "ExecuteTime": {
     "end_time": "2020-08-26T06:07:12.381156Z",
     "start_time": "2020-08-26T06:07:12.343132Z"
    }
   },
   "outputs": [
    {
     "data": {
      "text/plain": [
       "<Figure size 1440x720 with 0 Axes>"
      ]
     },
     "execution_count": 22,
     "metadata": {},
     "output_type": "execute_result"
    },
    {
     "data": {
      "text/plain": [
       "<Figure size 1440x720 with 0 Axes>"
      ]
     },
     "metadata": {},
     "output_type": "display_data"
    }
   ],
   "source": [
    "import matplotlib.pyplot as plt\n",
    "import matplotlib.font_manager as fm\n",
    "import pandas as pd\n",
    "import numpy as np\n",
    "from datetime import datetime\n",
    "import time\n",
    "\n",
    "# 행 많이보기\n",
    "pd.set_option('display.max_row', 500)\n",
    "pd.set_option('display.max_columns', 100)\n",
    "\n",
    "# 한글 폰트 설정\n",
    "\n",
    "fm.get_fontconfig_fonts()\n",
    "font_location = 'C:/Windows/Fonts/NanumGothic.ttf' # For Windows\n",
    "font_name = fm.FontProperties(fname=font_location).get_name()\n",
    "plt.rc('font', family=font_name)\n",
    "plt.rc('font', size=12)\n",
    "plt.figure(figsize=(20,10))"
   ]
  },
  {
   "cell_type": "code",
   "execution_count": 23,
   "metadata": {
    "ExecuteTime": {
     "end_time": "2020-08-26T06:07:24.603895Z",
     "start_time": "2020-08-26T06:07:12.385158Z"
    }
   },
   "outputs": [],
   "source": [
    "# 데이터 로드\n",
    "data = pd.read_excel('C:/Users/박소희/Desktop/Big_Con_Wanpanman/Data/2019_data_time.xlsx', encoding='cp949', header=0, parse_dates=[\"방송일시\"])\n",
    "# data = pd.read_excel('./data/2019_data_time.xlsx', encoding='cp949', header=0, parse_dates=[\"방송일시\"])"
   ]
  },
  {
   "cell_type": "markdown",
   "metadata": {},
   "source": [
    "# 데이터 정제"
   ]
  },
  {
   "cell_type": "code",
   "execution_count": 24,
   "metadata": {
    "ExecuteTime": {
     "end_time": "2020-08-26T06:07:24.655908Z",
     "start_time": "2020-08-26T06:07:24.607860Z"
    }
   },
   "outputs": [
    {
     "name": "stdout",
     "output_type": "stream",
     "text": [
      "Index(['index', 'time', 'exposure_time', 'mcode', 'product_code',\n",
      "       'product_name', 'category', 'price', 'salesAMT'],\n",
      "      dtype='object')\n"
     ]
    }
   ],
   "source": [
    "# 상품군 = 무형 제거 \n",
    "data.drop(data[data['상품군']=='무형'].index, inplace=True)\n",
    "data.reset_index(inplace=True)\n",
    "\n",
    "\n",
    "data.columns = ['index', 'time', 'exposure_time', 'mcode', 'product_code', 'product_name', 'category','price','salesAMT']\n",
    "print(data.columns)"
   ]
  },
  {
   "cell_type": "code",
   "execution_count": 25,
   "metadata": {
    "ExecuteTime": {
     "end_time": "2020-08-26T06:07:24.791990Z",
     "start_time": "2020-08-26T06:07:24.674906Z"
    }
   },
   "outputs": [],
   "source": [
    "data['time'] = pd.to_datetime(data['time'], format='%Y-%m-%d %H:%M:%S', errors='raise')\n",
    "\n",
    "# 여기는 어떻게 할지 안정함\n",
    "data['month'] = data['time'].dt.month\n",
    "data['day'] = data['time'].dt.day\n",
    "data['hour'] = data['time'].dt.hour\n",
    "data['minute'] = data['time'].dt.minute\n",
    "data['요일'] = data['time'].dt.weekday"
   ]
  },
  {
   "cell_type": "code",
   "execution_count": 26,
   "metadata": {
    "ExecuteTime": {
     "end_time": "2020-08-26T06:07:25.266334Z",
     "start_time": "2020-08-26T06:07:24.800997Z"
    },
    "scrolled": true
   },
   "outputs": [],
   "source": [
    "\n",
    "\n",
    "\n",
    "# 06 ~ 익일 02 가 한 cycle임을 고려하여 0, 1, 2 에 +24를 해주자\n",
    "overnight_index_list = data.loc[(data[\"hour\"] >=0) & (data[\"hour\"] < 3)].index\n",
    "\n",
    "overnight_index_list\n",
    "data.loc[overnight_index_list, \"hour\"] += 24\n",
    "data.loc[overnight_index_list, \"day\"] -= 1\n",
    "data.loc[overnight_index_list, \"요일\"] -= 1\n",
    "data.loc[data[\"요일\"] == -1, \"요일\"] = 6\n",
    "\n",
    "\n",
    "# day = 0 인 곳, 그 전달의 마지막 날짜로 변경해주기\n",
    "# 다음달로 넘어가거나 다음연도로 넘어간 항목은 월,일 재조정\n",
    "data.loc[(data[\"month\"] == 2) & (data[\"day\"] == 0), [\"month\", \"day\"]] = 1, 31\n",
    "data.loc[(data[\"month\"] == 3) & (data[\"day\"] == 0), [\"month\", \"day\"]] = 2, 28\n",
    "data.loc[(data[\"month\"] == 4) & (data[\"day\"] == 0), [\"month\", \"day\"]] = 3, 31\n",
    "data.loc[(data[\"month\"] == 5) & (data[\"day\"] == 0), [\"month\", \"day\"]] = 4, 30\n",
    "data.loc[(data[\"month\"] == 6) & (data[\"day\"] == 0), [\"month\", \"day\"]] = 5, 31\n",
    "data.loc[(data[\"month\"] == 7) & (data[\"day\"] == 0), [\"month\", \"day\"]] = 6, 30\n",
    "data.loc[(data[\"month\"] == 8) & (data[\"day\"] == 0), [\"month\", \"day\"]] = 7, 31\n",
    "data.loc[(data[\"month\"] == 9) & (data[\"day\"] == 0), [\"month\", \"day\"]] = 8, 31\n",
    "data.loc[(data[\"month\"] == 10) & (data[\"day\"] == 0), [\"month\", \"day\"]] = 9, 30\n",
    "data.loc[(data[\"month\"] == 11) & (data[\"day\"] == 0), [\"month\", \"day\"]] = 10, 31\n",
    "data.loc[(data[\"month\"] == 12) & (data[\"day\"] == 0), [\"month\", \"day\"]] = 11, 30\n",
    "data.loc[(data[\"month\"] == 1) & (data[\"day\"] == 0), [\"month\", \"day\"]] = 12, 31\n",
    "\n",
    "\n",
    "# use data\n",
    "df = data.loc[:,['month','day','hour','minute','요일','exposure_time', 'mcode', 'product_code', 'product_name', 'category','price','salesAMT']]"
   ]
  },
  {
   "cell_type": "markdown",
   "metadata": {},
   "source": [
    "# column 생성_1 : items, repeat, salesAMT/total "
   ]
  },
  {
   "cell_type": "code",
   "execution_count": 27,
   "metadata": {
    "ExecuteTime": {
     "end_time": "2020-08-26T06:07:25.317365Z",
     "start_time": "2020-08-26T06:07:25.284352Z"
    }
   },
   "outputs": [],
   "source": [
    "# 한개의 item 이 연속 한 번 편성된 경우\n",
    "except_idxs = [34,6738,7455,8167,9751,10437,10549,11364,12919,13281,13799,14054,14608,16073,16812,17598,\n",
    "               18225,18896,19608,20373,21299,21958,24159,24855,34845,35506,35807,36402]"
   ]
  },
  {
   "cell_type": "code",
   "execution_count": 28,
   "metadata": {
    "ExecuteTime": {
     "end_time": "2020-08-26T06:07:27.861176Z",
     "start_time": "2020-08-26T06:07:25.322368Z"
    }
   },
   "outputs": [],
   "source": [
    "# 새로운 col 생성\n",
    "df['new_idx'] = df['month'].astype(str)+df['day'].astype(str)+df['product_code'].astype(str)\n",
    "new = df.loc[:,['new_idx','salesAMT']]\n",
    "\n",
    "idxs, times,items = [], [], []\n",
    "tmp_times, tmp_items = [], []\n",
    "\n",
    "\n",
    "time = 1\n",
    "item = 0\n",
    "i = 0\n",
    "\n",
    "while i < 37364:\n",
    "    \n",
    "    # 한개 item이 한 번 연속 편성\n",
    "    if i in except_idxs :\n",
    "        item = 1\n",
    "        i += 1\n",
    "        time = 1\n",
    "        \n",
    "        times.append( time )\n",
    "        items.append( item )        \n",
    "        tmp_times.append(time)\n",
    "        tmp_items.append(item)\n",
    "        \n",
    "        item, time, idxs = 0, 0, []\n",
    "\n",
    "    # tmp로 idx 새로 등장한 idx 저장\n",
    "    elif new['new_idx'][i] not in idxs :\n",
    "        idxs.append(new['new_idx'][i])\n",
    "        item += 1\n",
    "        i += 1\n",
    "        time = 1\n",
    "\n",
    "    else : \n",
    "        time += 1\n",
    "        ## time 세는 거\n",
    "        if new['new_idx'][i+item] == new['new_idx'][i] :\n",
    "            i += item\n",
    "        else :\n",
    "            i += item\n",
    "            mul = time * item\n",
    "\n",
    "            # column 생성용\n",
    "            for x in range(mul) :\n",
    "                times.append( time )\n",
    "                items.append( item )\n",
    "\n",
    "            # 다음 코딩용\n",
    "            for x in range(item) :\n",
    "                tmp_times.append(time)\n",
    "                tmp_items.append(item)\n",
    "\n",
    "            item, time, idxs = 0, 0, []\n",
    "\n",
    "\n",
    "############ 마지막 부분 추가 안된 것이기 때문에\n",
    "########### 테스트 데이터 생성시, 확인 필요 !!!\n",
    "# column 생성용\n",
    "for i in range(12) :\n",
    "    times.append(4)\n",
    "    items.append(3)\n",
    "\n",
    "# 다음 코딩용\n",
    "for i in range(3) :\n",
    "    tmp_times.append(4)\n",
    "    tmp_items.append(3)\n",
    "\n",
    "\n",
    "new['items'] = items\n",
    "new['repeat'] = times"
   ]
  },
  {
   "cell_type": "code",
   "execution_count": 29,
   "metadata": {
    "ExecuteTime": {
     "end_time": "2020-08-26T06:07:38.900034Z",
     "start_time": "2020-08-26T06:07:27.866182Z"
    }
   },
   "outputs": [],
   "source": [
    "def check_idx(li, idx_num) :\n",
    "    li[idx_num] = 1\n",
    "    return li\n",
    "\n",
    "def my_turn(li) :\n",
    "    return li.index(0)\n",
    "\n",
    "not_yet = [0]*37372\n",
    "total = [0]*37372\n",
    "\n",
    "\n",
    "for one_item in except_idxs :\n",
    "    not_yet = check_idx(not_yet, one_item)\n",
    "    total[one_item] = new['salesAMT'][one_item]\n",
    "\n",
    "\n",
    "for x, y in zip(tmp_times, tmp_items) :\n",
    "    if x == 1 & y == 1 :\n",
    "        pass\n",
    "    else :\n",
    "        tmp_sum = 0\n",
    "        i = my_turn(not_yet)\n",
    "\n",
    "        tmp_idx = []\n",
    "        for k in range(x) : # 3번 연속 방송\n",
    "            tmp_idx.append(i)\n",
    "            tmp_sum += new['salesAMT'][i]\n",
    "            not_yet = check_idx(not_yet, i)\n",
    "            i += new['items'][i]\n",
    "\n",
    "        for idx_num in tmp_idx :\n",
    "            total[idx_num] = tmp_sum    \n",
    "    \n",
    "new['total'] = total\n",
    "new['salesAMT/total'] = new['salesAMT']/new['total']\n",
    "#new['취급액']=new['취급액']\n",
    "new = new.loc[:,['items','repeat','salesAMT/total']]\n",
    "tmp = pd.concat([df, new], axis=1)\n",
    "df = tmp.loc[: ,['month','day','요일','hour','minute','exposure_time','repeat','category','mcode','product_code','items','product_name','price','salesAMT/total','salesAMT']]"
   ]
  },
  {
   "cell_type": "markdown",
   "metadata": {
    "ExecuteTime": {
     "end_time": "2020-08-13T17:05:37.395069Z",
     "start_time": "2020-08-13T17:05:37.304004Z"
    }
   },
   "source": [
    "# column 생성_2 : 마더코드 범주화 col 생성"
   ]
  },
  {
   "cell_type": "code",
   "execution_count": 30,
   "metadata": {
    "ExecuteTime": {
     "end_time": "2020-08-26T06:07:43.159069Z",
     "start_time": "2020-08-26T06:07:38.904036Z"
    }
   },
   "outputs": [
    {
     "data": {
      "text/html": [
       "<div>\n",
       "<style scoped>\n",
       "    .dataframe tbody tr th:only-of-type {\n",
       "        vertical-align: middle;\n",
       "    }\n",
       "\n",
       "    .dataframe tbody tr th {\n",
       "        vertical-align: top;\n",
       "    }\n",
       "\n",
       "    .dataframe thead th {\n",
       "        text-align: right;\n",
       "    }\n",
       "</style>\n",
       "<table border=\"1\" class=\"dataframe\">\n",
       "  <thead>\n",
       "    <tr style=\"text-align: right;\">\n",
       "      <th></th>\n",
       "      <th>sum</th>\n",
       "      <th>count</th>\n",
       "      <th>mean</th>\n",
       "    </tr>\n",
       "  </thead>\n",
       "  <tbody>\n",
       "    <tr>\n",
       "      <th>sum</th>\n",
       "      <td>1.000000</td>\n",
       "      <td>0.812212</td>\n",
       "      <td>0.260278</td>\n",
       "    </tr>\n",
       "    <tr>\n",
       "      <th>count</th>\n",
       "      <td>0.812212</td>\n",
       "      <td>1.000000</td>\n",
       "      <td>-0.020222</td>\n",
       "    </tr>\n",
       "    <tr>\n",
       "      <th>mean</th>\n",
       "      <td>0.260278</td>\n",
       "      <td>-0.020222</td>\n",
       "      <td>1.000000</td>\n",
       "    </tr>\n",
       "  </tbody>\n",
       "</table>\n",
       "</div>"
      ],
      "text/plain": [
       "            sum     count      mean\n",
       "sum    1.000000  0.812212  0.260278\n",
       "count  0.812212  1.000000 -0.020222\n",
       "mean   0.260278 -0.020222  1.000000"
      ]
     },
     "execution_count": 30,
     "metadata": {},
     "output_type": "execute_result"
    }
   ],
   "source": [
    "MD = df['salesAMT'].groupby(df['mcode']).describe()\n",
    "MD3 = pd.DataFrame()\n",
    "MD3['sum'] = list(df['salesAMT'].groupby(df['mcode']).sum())\n",
    "MD3['count'] = list(MD['count'])\n",
    "MD3['mean'] = list(MD['mean'])\n",
    "MD3.corr()"
   ]
  },
  {
   "cell_type": "code",
   "execution_count": 31,
   "metadata": {
    "ExecuteTime": {
     "end_time": "2020-08-26T06:07:43.194092Z",
     "start_time": "2020-08-26T06:07:43.166071Z"
    }
   },
   "outputs": [],
   "source": [
    "def make_MD(x) :\n",
    "    if x > 35000000 :\n",
    "        return 5\n",
    "    elif x > 25000000 :\n",
    "        return 4\n",
    "    elif x > 15000000 :\n",
    "        return 3    \n",
    "    elif x > 10000000 :\n",
    "        return 2\n",
    "    else :\n",
    "        return 1\n",
    "    \n",
    "MD['Mcode2'] = list(map(make_MD, MD['mean']))"
   ]
  },
  {
   "cell_type": "code",
   "execution_count": 32,
   "metadata": {
    "ExecuteTime": {
     "end_time": "2020-08-26T06:07:43.266144Z",
     "start_time": "2020-08-26T06:07:43.204102Z"
    },
    "scrolled": true
   },
   "outputs": [
    {
     "data": {
      "text/plain": [
       "3    164\n",
       "1    133\n",
       "5    132\n",
       "4    131\n",
       "2    127\n",
       "Name: Mcode2, dtype: int64"
      ]
     },
     "execution_count": 32,
     "metadata": {},
     "output_type": "execute_result"
    }
   ],
   "source": [
    "MD['Mcode2'].value_counts()"
   ]
  },
  {
   "cell_type": "code",
   "execution_count": 33,
   "metadata": {
    "ExecuteTime": {
     "end_time": "2020-08-26T06:07:44.654169Z",
     "start_time": "2020-08-26T06:07:43.278152Z"
    }
   },
   "outputs": [],
   "source": [
    "def make_MD_col(x) :\n",
    "    return MD['Mcode2'][x]\n",
    "\n",
    "df['Mcode'] = list(map(make_MD_col, df['mcode']))"
   ]
  },
  {
   "cell_type": "markdown",
   "metadata": {},
   "source": [
    "# column 생성_3 : holiday - 9"
   ]
  },
  {
   "cell_type": "code",
   "execution_count": 34,
   "metadata": {
    "ExecuteTime": {
     "end_time": "2020-08-26T06:08:29.083764Z",
     "start_time": "2020-08-26T06:07:44.657134Z"
    }
   },
   "outputs": [],
   "source": [
    "from datetime import datetime, timedelta\n",
    "\n",
    "def days_back(x) :\n",
    "    return x + timedelta(days=-9) ###### q변경\n",
    "\n",
    "H2 = pd.read_csv('./data/holiday2.csv', encoding='cp949')\n",
    "H2['holiday'] = pd.to_datetime(H2['holiday'], format='%Y%m%d', errors='raise')\n",
    "H2['holiday'] = list(map(days_back, H2['holiday']))\n",
    "\n",
    "H2['holiday_M'] = H2['holiday'].dt.month\n",
    "H2['holiday_D'] = H2['holiday'].dt.day\n",
    "\n",
    "# DAYS BACK하면서 2018년으로 넘어간 것들은 제거\n",
    "H2 = H2[1::].reset_index(drop=True)\n",
    "\n",
    "# 새로운 col 생성\n",
    "H2['holiday_idx'] = H2['holiday_M'].astype(str)+H2['holiday_D'].astype(str)\n",
    "df['new_idx'] = df['month'].astype(str)+df['day'].astype(str)\n",
    "\n",
    "holiday_ = []\n",
    "for idx in range(len(df)) :\n",
    "    for hol_idx in range(len(H2)) : \n",
    "        if df['new_idx'][idx] == H2['holiday_idx'][hol_idx] :\n",
    "            holiday_.append(1)\n",
    "            break\n",
    "    if len(holiday_) != idx + 1 :\n",
    "        holiday_.append(0)\n",
    "\n",
    "\n",
    "df['holiday'] = holiday_"
   ]
  },
  {
   "cell_type": "code",
   "execution_count": 35,
   "metadata": {
    "ExecuteTime": {
     "end_time": "2020-08-26T06:08:31.242298Z",
     "start_time": "2020-08-26T06:08:29.093769Z"
    }
   },
   "outputs": [],
   "source": [
    "df.to_csv('./data/train_ongoing.csv', encoding='cp949', index=False)"
   ]
  },
  {
   "cell_type": "markdown",
   "metadata": {},
   "source": [
    "# Modeling test"
   ]
  },
  {
   "cell_type": "markdown",
   "metadata": {},
   "source": [
    "## Feature 정리"
   ]
  },
  {
   "cell_type": "code",
   "execution_count": 36,
   "metadata": {
    "ExecuteTime": {
     "end_time": "2020-08-26T06:08:31.282325Z",
     "start_time": "2020-08-26T06:08:31.247315Z"
    }
   },
   "outputs": [
    {
     "data": {
      "text/plain": [
       "Index(['month', 'day', '요일', 'hour', 'minute', 'exposure_time', 'repeat',\n",
       "       'category', 'mcode', 'product_code', 'items', 'product_name', 'price',\n",
       "       'salesAMT/total', 'salesAMT', 'Mcode', 'new_idx', 'holiday'],\n",
       "      dtype='object')"
      ]
     },
     "execution_count": 36,
     "metadata": {},
     "output_type": "execute_result"
    }
   ],
   "source": [
    "from sklearn.ensemble import RandomForestRegressor\n",
    "from sklearn.model_selection import train_test_split\n",
    "from sklearn.model_selection import GridSearchCV\n",
    "from sklearn.metrics import r2_score\n",
    "import lightgbm as lgb\n",
    "\n",
    "def mape(A, F): \n",
    "    return np.mean(np.abs((A - F) / A)) * 100\n",
    "\n",
    "new_data = df\n",
    "new_data.columns"
   ]
  },
  {
   "cell_type": "code",
   "execution_count": 37,
   "metadata": {
    "ExecuteTime": {
     "end_time": "2020-08-26T06:08:31.490474Z",
     "start_time": "2020-08-26T06:08:31.288330Z"
    }
   },
   "outputs": [],
   "source": [
    "new_data.columns = ['M', 'D', 'day', 'H', 'm', 'exposure_time', 'repeat', 'category',\n",
    "                    'Mothercode', 'productcode', 'items', 'name',  'price', \n",
    "                    'salesAMT/total', 'salesAMT','Mcode', 'new_idx','holiday']\n",
    "\n",
    "# 상품군 get_dummies를 위한 category 내용 영어로 변경\n",
    "def change_category_name(x) :\n",
    "    if x == '의류' :\n",
    "        return 'clothes'\n",
    "    elif x == '속옷' :\n",
    "        return 'underware'\n",
    "    elif x == '주방' :\n",
    "        return \"kitchen\"\n",
    "    elif x == \"농수축\" :\n",
    "        return \"food\"\n",
    "    elif x == \"이미용\" :\n",
    "        return \"beauty\"\n",
    "    elif x == \"가전\" :\n",
    "        return \"electronics\"\n",
    "    elif x == \"생활용품\" :\n",
    "        return \"necessaries\"\n",
    "    elif x == \"건강기능\" :\n",
    "        return \"health\"\n",
    "    elif x == \"잡화\" : \n",
    "        return \"goods\"\n",
    "    elif x == \"가구\":\n",
    "        return \"furniture\"\n",
    "    elif x == \"침구\":\n",
    "        return \"bedding\"\n",
    "\n",
    "new_data['category'] = list(map(change_category_name, new_data['category'])) \n",
    "\n",
    "# 상품군 get_dummies\n",
    "new_data = pd.get_dummies(new_data,\n",
    "                          columns=['category'],# category\n",
    "                          prefix='category', drop_first=True)"
   ]
  },
  {
   "cell_type": "code",
   "execution_count": 38,
   "metadata": {
    "ExecuteTime": {
     "end_time": "2020-08-26T06:08:31.552518Z",
     "start_time": "2020-08-26T06:08:31.497479Z"
    }
   },
   "outputs": [],
   "source": [
    "# train data\n",
    "X = new_data.drop([\"salesAMT\", 'name', 'new_idx', 'Mcode'], axis=1) # 'new_idx', \"salesAMT\",'name', 'new_idx'\n",
    "y = new_data[\"salesAMT\"] #salesAMT"
   ]
  },
  {
   "cell_type": "markdown",
   "metadata": {},
   "source": [
    "## 랜덤포레스트"
   ]
  },
  {
   "cell_type": "code",
   "execution_count": 39,
   "metadata": {
    "ExecuteTime": {
     "end_time": "2020-08-26T06:09:44.855704Z",
     "start_time": "2020-08-26T06:08:31.559524Z"
    }
   },
   "outputs": [
    {
     "name": "stdout",
     "output_type": "stream",
     "text": [
      "점수 :  68.57943905917098\n"
     ]
    },
    {
     "data": {
      "image/png": "[encoded data removed]",
      "text/plain": [
       "<Figure size 432x288 with 1 Axes>"
      ]
     },
     "metadata": {
      "needs_background": "light"
     },
     "output_type": "display_data"
    }
   ],
   "source": [
    "# train data 내에서 데이터 분리\n",
    "X_train, X_test, y_train, y_test = train_test_split(X, y, test_size=0.25, random_state=147, shuffle=True)\n",
    "\n",
    "# model 설정\n",
    "rf_model = RandomForestRegressor(n_estimators=300, n_jobs=-1,)\n",
    "\n",
    "# 학습\n",
    "rf_model.fit(X_train, y_train)\n",
    "\n",
    "# 예측\n",
    "pred = rf_model.predict(X_test)\n",
    "\n",
    "# 점수 확인\n",
    "print('점수 : ',mape(y_test, pred))\n",
    "\n",
    "# feature 중요도 확인을 위해서 !\n",
    "n_feature = X.shape[1]\n",
    "index = np.arange(n_feature)\n",
    "\n",
    "featureImportance = rf_model.feature_importances_\n",
    "sorted_idx = np.argsort(featureImportance)\n",
    "barPos = np.arange(sorted_idx.shape[0])\n",
    "plt.barh(index, featureImportance[sorted_idx] , align='center')\n",
    "plt.yticks(barPos, X_train.keys()[sorted_idx])\n",
    "#plt.yticks(index, X.columns)\n",
    "plt.ylim(-1, n_feature)\n",
    "plt.xlabel('feature importance', size=15)\n",
    "plt.ylabel('feature', size=15)\n",
    "\n",
    "plt.show()\n",
    "\n",
    "\n",
    "# 아무것도 안했을 때 : 573.0829\n",
    "\n",
    "\n",
    "# ( 1-1,           1-2,            1-3,    1-4   )\n",
    "# (items,repeat , saleAMT/total , Mcode, holiday )\n",
    "\n",
    "# 60.630084894625 ( 1-1, 1-2, 1-3, 1-4 ) \n",
    "# 554.9167967134957 ( 1-1, 1-2 X, 1-3, 1-4 )\n",
    "# 565.4563062980724 ( 1-1, 1-2 X, 1-3 X, 1-4 )\n",
    "# 67.90017724971746 ( 1-1, 1-2 , 1-3 X, 1-4 )"
   ]
  },
  {
   "cell_type": "markdown",
   "metadata": {},
   "source": [
    "## LGBM"
   ]
  },
  {
   "cell_type": "code",
   "execution_count": 40,
   "metadata": {
    "ExecuteTime": {
     "end_time": "2020-08-26T06:09:47.501588Z",
     "start_time": "2020-08-26T06:09:44.858706Z"
    }
   },
   "outputs": [
    {
     "name": "stdout",
     "output_type": "stream",
     "text": [
      "점수 :  155.56881833260957\n"
     ]
    },
    {
     "data": {
      "image/png": "[encoded data removed]",
      "text/plain": [
       "<Figure size 432x288 with 1 Axes>"
      ]
     },
     "metadata": {
      "needs_background": "light"
     },
     "output_type": "display_data"
    }
   ],
   "source": [
    "# train data 내에서 데이터 분리\n",
    "X_train, X_test, y_train, y_test = train_test_split(X, y, test_size=0.25, random_state=147, shuffle=True)\n",
    "\n",
    "# model 설정\n",
    "model = lgb.LGBMRegressor(random_state=147, n_estimators=300)\n",
    "\n",
    "# 학습\n",
    "model.fit(X_train, y_train)\n",
    "\n",
    "# 예측\n",
    "pred = model.predict(X_test)\n",
    "\n",
    "# 점수 확인\n",
    "print('점수 : ', mape(y_test,pred))\n",
    "\n",
    "# feature 중요도 확인을 위해서 !\n",
    "n_feature = X.shape[1]\n",
    "index = np.arange(n_feature)\n",
    "\n",
    "featureImportance = model.feature_importances_\n",
    "#featureImportance = featureImportance/featureImportance.max()\n",
    "sorted_idx = np.argsort(featureImportance)\n",
    "barPos = np.arange(sorted_idx.shape[0])\n",
    "\n",
    "plt.barh(barPos, featureImportance[sorted_idx], align='center')\n",
    "plt.yticks(barPos, X_train.keys()[sorted_idx])\n",
    "plt.yticks(index, X.columns)\n",
    "plt.ylim(-1, n_feature)\n",
    "plt.xlabel('feature importance', size=15)\n",
    "plt.ylabel('feature', size=15)\n",
    "\n",
    "plt.show()\n",
    "\n",
    "# ( 1-1,           1-2,            1-3,    1-4   )\n",
    "# (items,repeat , saleAMT/total , Mcode, holiday )\n",
    "\n",
    "# 151.38416138248525 ( 1-1, 1-2, 1-3, 1-4 )\n",
    "# 551.3905666067202 ( 1-1, 1-2 X, 1-3, 1-4 )\n",
    "# 541.0164344427321 ( 1-1, 1-2 X, 1-3 X, 1-4 )\n",
    "# 155.56881833260957 ( 1-1, 1-2 , 1-3 X, 1-4 )"
   ]
  }
 ],
 "metadata": {
  "kernelspec": {
   "display_name": "Python [conda env:cpu_env] *",
   "language": "python",
   "name": "conda-env-cpu_env-py"
  },
  "language_info": {
   "codemirror_mode": {
    "name": "ipython",
    "version": 3
   },
   "file_extension": ".py",
   "mimetype": "text/x-python",
   "name": "python",
   "nbconvert_exporter": "python",
   "pygments_lexer": "ipython3",
   "version": "3.6.9"
  },
  "toc": {
   "base_numbering": 1,
   "nav_menu": {},
   "number_sections": true,
   "sideBar": true,
   "skip_h1_title": false,
   "title_cell": "Table of Contents",
   "title_sidebar": "Contents",
   "toc_cell": false,
   "toc_position": {},
   "toc_section_display": true,
   "toc_window_display": false
  },
  "varInspector": {
   "cols": {
    "lenName": 16,
    "lenType": 16,
    "lenVar": 40
   },
   "kernels_config": {
    "python": {
     "delete_cmd_postfix": "",
     "delete_cmd_prefix": "del ",
     "library": "var_list.py",
     "varRefreshCmd": "print(var_dic_list())"
    },
    "r": {
     "delete_cmd_postfix": ") ",
     "delete_cmd_prefix": "rm(",
     "library": "var_list.r",
     "varRefreshCmd": "cat(var_dic_list()) "
    }
   },
   "types_to_exclude": [
    "module",
    "function",
    "builtin_function_or_method",
    "instance",
    "_Feature"
   ],
   "window_display": false
  }
 },
 "nbformat": 4,
 "nbformat_minor": 2
}
