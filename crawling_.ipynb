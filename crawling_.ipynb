{
 "cells": [
  {
   "cell_type": "code",
   "execution_count": 2,
   "metadata": {
    "ExecuteTime": {
     "end_time": "2020-08-12T16:53:21.566154Z",
     "start_time": "2020-08-12T16:53:21.547140Z"
    }
   },
   "outputs": [
    {
     "data": {
      "text/plain": [
       "<Figure size 1440x720 with 0 Axes>"
      ]
     },
     "execution_count": 2,
     "metadata": {},
     "output_type": "execute_result"
    },
    {
     "data": {
      "text/plain": [
       "<Figure size 1440x720 with 0 Axes>"
      ]
     },
     "metadata": {},
     "output_type": "display_data"
    }
   ],
   "source": [
    "import matplotlib.pyplot as plt\n",
    "import matplotlib.font_manager as fm\n",
    "import pandas as pd\n",
    "import numpy as np\n",
    "from datetime import datetime\n",
    "import time\n",
    "\n",
    "# 행 많이보기\n",
    "pd.set_option('display.max_row', 500)\n",
    "pd.set_option('display.max_columns', 100)\n",
    "\n",
    "# 한글 폰트 설정\n",
    "\n",
    "fm.get_fontconfig_fonts()\n",
    "font_location = 'C:/Windows/Fonts/NanumGothic.ttf' # For Windows\n",
    "font_name = fm.FontProperties(fname=font_location).get_name()\n",
    "plt.rc('font', family=font_name)\n",
    "plt.rc('font', size=12)\n",
    "plt.figure(figsize=(20,10))"
   ]
  },
  {
   "cell_type": "code",
   "execution_count": 3,
   "metadata": {
    "ExecuteTime": {
     "end_time": "2020-08-12T16:53:23.666662Z",
     "start_time": "2020-08-12T16:53:22.842065Z"
    }
   },
   "outputs": [],
   "source": [
    "# 필요한 모듈 불러오기\n",
    "import requests\n",
    "from bs4 import BeautifulSoup\n",
    "import pandas as pd"
   ]
  },
  {
   "cell_type": "markdown",
   "metadata": {},
   "source": [
    "http://www.nsmall.com/NSSubBrandPageLayoutView?whereGo=go2&brandCode=643677&searchType=search&langId=-9&catalogId=97001&storeId=13001&cate1Code=1583570#\n",
    "\n",
    "\n",
    "http://www.nsmall.com/NSSubBrandPageLayoutView?whereGo=go2&brandCode=829310&searchType=search&langId=-9&catalogId=97001&storeId=13001&cate1Code=1583567#;\n",
    "\n",
    "\n",
    "http://www.nsmall.com/NSSubBrandPageLayoutView?whereGo=go2&brandCode=833224&searchType=search&langId=-9&catalogId=97001&storeId=13001&cate1Code=1583566\n",
    "\n",
    "http://www.nsmall.com/NSSubBrandPageLayoutView?whereGo=go2&brandCode=818598&searchType=search&langId=-9&catalogId=97001&storeId=13001&cate1Code=1583578\n",
    "\n",
    "* LG 생활건강 : 100330 / 452334\n",
    "* LG 퓨리케어 : 100153 / 802322\n",
    "\n",
    "\n",
    "http://www.nsmall.com/NSSubBrandPageLayoutView?whereGo=go2&\n",
    "\n",
    "brandCode=452334& # 브랜드코드\n",
    "\n",
    "searchType=search&langId=-9\n",
    "\n",
    "&catalogId=97001\n",
    "\n",
    "&storeId=13001\n",
    "\n",
    "&cate1Code=1583570 # 뷰티 카테고리\n",
    "\n",
    "\n",
    "\n",
    "http://www.nsmall.com/ProductDisplay?\n",
    "\n",
    "catalogId=97001&busChnId=INT&langId=-9&storeId=13001&\n",
    "\n",
    "partNumber=29879654& # 상품코드\n",
    "\n",
    "menuUri=NSItemDetailView\n",
    "\n",
    "&cate1Code=1583570 # 카테고리\n",
    "\n",
    "\n",
    "http://www.nsmall.com/ProductDisplay?\n",
    "\n",
    "catalogId=97001&busChnId=INT&langId=-9&storeId=13001&\n",
    "\n",
    "partNumber=29879653&\n",
    "\n",
    "menuUri=NSItemDetailView&\n",
    "\n",
    "cate1Code=1583570\n",
    "\n",
    "\n",
    "\n",
    "http://www.nsmall.com/NSSubBrandPageLayoutView?\n",
    "\n",
    "whereGo=go2&\n",
    "\n",
    "brandCode=452339\n",
    "\n",
    "&searchType=search&langId=-9&catalogId=97001&storeId=13001&\n",
    "\n",
    "cate1Code=1583565\n",
    "\n",
    "http://www.nsmall.com/NSSubBrandPageLayoutView?\n",
    "\n",
    "whereGo=go2&\n",
    "\n",
    "brandCode=802322\n",
    "\n",
    "&searchType=search&langId=-9&catalogId=97001&storeId=13001&\n",
    "\n",
    "cate1Code=1583565"
   ]
  },
  {
   "cell_type": "code",
   "execution_count": null,
   "metadata": {},
   "outputs": [],
   "source": [
    "# url 시작\n",
    "url1 = 'http://www.nsmall.com/NSSubBrandPageLayoutView?whereGo=go2&brandCode=643677&searchType=search&langId=-9&catalogId=97001&storeId=13001&cate1Code=1583570#'"
   ]
  },
  {
   "cell_type": "code",
   "execution_count": null,
   "metadata": {},
   "outputs": [],
   "source": [
    "\n",
    "url3 = '&boardCd=&isBoard=false'\n",
    "df = []\n",
    "all_url = []\n",
    "\n",
    "for url2 in range(50):\n",
    "    url = url1 + str(url2) + url3\n",
    "    req = requests.get(url)\n",
    "    html = req.text\n",
    "    soup = BeautifulSoup(html, 'html.parser', from_encoding='utf-8')\n",
    "    html = list(soup.children)[3]\n",
    "    body = list(html.children)[3]\n",
    "    body2 = list(body.children)[7]\n",
    "    body3 = list(body2.children)[3]\n",
    "    body4 = list(body3.children)[7]\n",
    "    turn = len(list(body4.select('span.list_subject > a')))\n",
    "\n",
    "    for tag in range(0,turn):\n",
    "        # 제목\n",
    "        a = body4.select('span.list_subject > a')[tag].text\n",
    "        \n",
    "        # 링크\n",
    "        b = body4.select('span.list_subject > a')[tag].get('href')\n",
    "       \n",
    "        # 댓글 수\n",
    "        if len(list(body4.select('div.list_title.oneline')[tag])) == 9: # 그림 ㅇ , 댓글 ㅇ\n",
    "            c = list(body4.select('div.list_title.oneline')[tag])[5].text.strip('\\n')\n",
    "        elif len(list(body4.select('div.list_title.oneline')[tag])) == 7: \n",
    "            area = list(body4.select('div.list_title.oneline')[tag]) \n",
    "            if str(area[3])[13] is \"i\": # 그림 ㅇ, 댓글 x\n",
    "                c = '0'\n",
    "            else:   # 그림 x, 댓글 ㅇ\n",
    "                c = list(body4.select('div.list_title.oneline')[tag])[3].text.strip('\\n')\n",
    "        else:                                                       \n",
    "            c = '0' # 그림 x, 댓글 x\n",
    "       \n",
    "        # 글쓴이\n",
    "        if list(body4.select('span.nickname')[tag])[1].text:\n",
    "            d = list(body4.select('span.nickname')[tag])[1].text\n",
    "        else:\n",
    "            d = list(body4.select('span.nickname')[tag])[1].get('alt')\n",
    "       \n",
    "        # 조회수\n",
    "        e = body4.select('span.hit')[tag].text\n",
    "        if \"k\" in e:\n",
    "            e = str(int(float(e[:4]) * 1000))\n",
    "        else:\n",
    "            pass\n",
    "       \n",
    "        # 글 작성 시간\n",
    "        f = body4.select('span.timestamp')[tag].text\n",
    "\n",
    "        df.append([a,b,c,d,e,f])\n",
    "        all_url.append(b)\n",
    "\n",
    "print(len(df))"
   ]
  },
  {
   "cell_type": "code",
   "execution_count": null,
   "metadata": {},
   "outputs": [],
   "source": [
    "%%time\n",
    "\n",
    "num = len(all_url)\n",
    "all_content = []\n",
    "for url_num in range(920):\n",
    "    print(url_num)\n",
    "    each_url = \"https://www.clien.net/\" + all_url[url_num]\n",
    "    req = requests.get(each_url)\n",
    "    html = req.text\n",
    "    soup = BeautifulSoup(html, 'html.parser', from_encoding='utf-8')\n",
    "\n",
    "    html = list(soup.children)[3]\n",
    "    body = list(html.children)[3]\n",
    "    body2 = list(body.children)[7]\n",
    "    body3 = list(body2.children)[3]\n",
    "    body4 = list(body3.children)[1]\n",
    "\n",
    "    \n",
    "\n",
    "    # 글 내용\n",
    "    content = []\n",
    "    tmp = list(body4.find_all('p'))\n",
    "    for i in range(len(tmp)):\n",
    "        if tmp[i].text is \"\" or str(tmp[i].text)[3:] == 'GIF' or str(tmp[i].text)[:4] == 'http':\n",
    "            pass\n",
    "        else:\n",
    "            tmpstr = str(tmp[i].text)\n",
    "            tmpstr = tmpstr.replace('\\n\\n','')\n",
    "            tmpstr = tmpstr.replace('\\xab','')\n",
    "            tmpsave = tmpstr.replace('\\xa0','')\n",
    "            content.append(tmpsave)\n",
    "    df[url_num].append(content)\n",
    "\n",
    "    # 공감수\n",
    "    sympathy = body4.select('#comment-head > a > strong')[0].text\n",
    "    df[url_num].append(sympathy)\n",
    "    # 댓글 내용\n",
    "    reply_cnt = int(df[url_num][2])\n",
    "    reply_content = []\n",
    "    if reply_cnt != 0:\n",
    "        replies = body4.select('#div_content div div div div.comment_view')\n",
    "        for reply in replies:\n",
    "            reply_content.append(reply.get_text(strip=True).replace('\\n', '').replace('\\r', '').replace('\\t', ''))\n",
    "    reply_content = '\\n'.join(reply_content)\n",
    "    df[url_num].append(reply_content)\n",
    "\n",
    "    print(url_num, \"finished\")"
   ]
  }
 ],
 "metadata": {
  "kernelspec": {
   "display_name": "Python [conda env:cpu_env] *",
   "language": "python",
   "name": "conda-env-cpu_env-py"
  },
  "language_info": {
   "codemirror_mode": {
    "name": "ipython",
    "version": 3
   },
   "file_extension": ".py",
   "mimetype": "text/x-python",
   "name": "python",
   "nbconvert_exporter": "python",
   "pygments_lexer": "ipython3",
   "version": "3.6.9"
  },
  "toc": {
   "base_numbering": 1,
   "nav_menu": {},
   "number_sections": true,
   "sideBar": true,
   "skip_h1_title": false,
   "title_cell": "Table of Contents",
   "title_sidebar": "Contents",
   "toc_cell": false,
   "toc_position": {},
   "toc_section_display": true,
   "toc_window_display": false
  },
  "varInspector": {
   "cols": {
    "lenName": 16,
    "lenType": 16,
    "lenVar": 40
   },
   "kernels_config": {
    "python": {
     "delete_cmd_postfix": "",
     "delete_cmd_prefix": "del ",
     "library": "var_list.py",
     "varRefreshCmd": "print(var_dic_list())"
    },
    "r": {
     "delete_cmd_postfix": ") ",
     "delete_cmd_prefix": "rm(",
     "library": "var_list.r",
     "varRefreshCmd": "cat(var_dic_list()) "
    }
   },
   "types_to_exclude": [
    "module",
    "function",
    "builtin_function_or_method",
    "instance",
    "_Feature"
   ],
   "window_display": false
  }
 },
 "nbformat": 4,
 "nbformat_minor": 2
}
